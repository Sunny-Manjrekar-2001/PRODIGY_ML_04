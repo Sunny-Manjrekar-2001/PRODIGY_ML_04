{
 "cells": [
  {
   "cell_type": "code",
   "execution_count": 27,
   "id": "e4a82c2f",
   "metadata": {},
   "outputs": [],
   "source": [
    "# Import necessary libraries\n",
    "import os\n",
    "import cv2\n",
    "import numpy as np\n",
    "import tensorflow as tf\n",
    "from sklearn.model_selection import train_test_split\n",
    "from sklearn.preprocessing import LabelEncoder\n",
    "from sklearn.metrics import accuracy_score, classification_report  # Add this line\n",
    "from keras.models import Sequential\n",
    "from keras.layers import Conv2D, MaxPooling2D, Flatten, Dense\n",
    "from keras.utils import to_categorical\n",
    "from keras.preprocessing.image import ImageDataGenerator"
   ]
  },
  {
   "cell_type": "code",
   "execution_count": 15,
   "id": "98f94d49",
   "metadata": {},
   "outputs": [],
   "source": [
    "# Set the path to the dataset directory\n",
    "dataset_path = \"C:/Users/sunny/Downloads/archive/leapGestRecog/leapGestRecog/00\""
   ]
  },
  {
   "cell_type": "code",
   "execution_count": 16,
   "id": "364e341d",
   "metadata": {},
   "outputs": [],
   "source": [
    "# Load images and labels\n",
    "X = []\n",
    "y = []\n",
    "\n",
    "for gesture_label in os.listdir(dataset_path):\n",
    "    gesture_path = os.path.join(dataset_path, gesture_label)\n",
    "    \n",
    "    for filename in os.listdir(gesture_path):\n",
    "        img_path = os.path.join(gesture_path, filename)\n",
    "        \n",
    "        # if image file exists\n",
    "        if os.path.isfile(img_path):\n",
    "            image = cv2.imread(img_path, cv2.IMREAD_GRAYSCALE)\n",
    "            \n",
    "            # if the image loaded successfully\n",
    "            if image is not None:\n",
    "                image = cv2.resize(image, (64, 64))\n",
    "                X.append(image)\n",
    "                y.append(gesture_label)\n",
    "            else:\n",
    "                print(f\"Error loading image: {img_path}\")\n",
    "        else:\n",
    "            print(f\"File not found: {img_path}\")\n"
   ]
  },
  {
   "cell_type": "code",
   "execution_count": 17,
   "id": "4be8f8a6",
   "metadata": {},
   "outputs": [],
   "source": [
    "# Convert lists to NumPy arrays\n",
    "X = np.array(X)\n",
    "y = np.array(y)"
   ]
  },
  {
   "cell_type": "code",
   "execution_count": 18,
   "id": "71477148",
   "metadata": {},
   "outputs": [],
   "source": [
    "# Encode labels\n",
    "le = LabelEncoder()\n",
    "y = le.fit_transform(y)\n",
    "y = to_categorical(y)"
   ]
  },
  {
   "cell_type": "code",
   "execution_count": 19,
   "id": "3009bf13",
   "metadata": {},
   "outputs": [],
   "source": [
    "# Split the dataset into training and testing sets\n",
    "X_train, X_test, y_train, y_test = train_test_split(X, y, test_size=0.2, random_state=42)"
   ]
  },
  {
   "cell_type": "code",
   "execution_count": 20,
   "id": "e2a8fa1d",
   "metadata": {},
   "outputs": [],
   "source": [
    "# Build the model (same as before)\n",
    "model = Sequential()\n",
    "model.add(Conv2D(32, (3, 3), activation='relu', input_shape=(64, 64, 1)))\n",
    "model.add(MaxPooling2D(pool_size=(2, 2)))\n",
    "model.add(Conv2D(64, (3, 3), activation='relu'))\n",
    "model.add(MaxPooling2D((2, 2)))\n",
    "model.add(Conv2D(128, (3, 3), activation='relu'))\n",
    "model.add(MaxPooling2D(pool_size=(2, 2)))\n",
    "model.add(Flatten())\n",
    "model.add(Dense(128, activation='relu'))\n",
    "model.add(Dense(10, activation='softmax'))"
   ]
  },
  {
   "cell_type": "code",
   "execution_count": 21,
   "id": "e6a83d2c",
   "metadata": {},
   "outputs": [],
   "source": [
    "# Compile the model (same as before)\n",
    "model.compile(optimizer=tf.compat.v1.train.AdamOptimizer(), loss='categorical_crossentropy', metrics=['accuracy'])"
   ]
  },
  {
   "cell_type": "code",
   "execution_count": 23,
   "id": "a2a5f8ef",
   "metadata": {},
   "outputs": [],
   "source": [
    "# Data augmentation\n",
    "datagen = ImageDataGenerator(rotation_range=20, width_shift_range=0.2, height_shift_range=0.2, shear_range=0.2, zoom_range=0.2, horizontal_flip=True)\n",
    "datagen.fit(X_train.reshape(-1, 64, 64, 1))"
   ]
  },
  {
   "cell_type": "code",
   "execution_count": 24,
   "id": "fe45117e",
   "metadata": {},
   "outputs": [
    {
     "name": "stdout",
     "output_type": "stream",
     "text": [
      "Epoch 1/10\n",
      "WARNING:tensorflow:From C:\\Users\\sunny\\anaconda3\\Lib\\site-packages\\keras\\src\\utils\\tf_utils.py:492: The name tf.ragged.RaggedTensorValue is deprecated. Please use tf.compat.v1.ragged.RaggedTensorValue instead.\n",
      "\n",
      "WARNING:tensorflow:From C:\\Users\\sunny\\anaconda3\\Lib\\site-packages\\keras\\src\\engine\\base_layer_utils.py:384: The name tf.executing_eagerly_outside_functions is deprecated. Please use tf.compat.v1.executing_eagerly_outside_functions instead.\n",
      "\n",
      "50/50 [==============================] - 4s 57ms/step - loss: 5.4398 - accuracy: 0.1494 - val_loss: 2.0643 - val_accuracy: 0.2875\n",
      "Epoch 2/10\n",
      "50/50 [==============================] - 2s 49ms/step - loss: 1.8846 - accuracy: 0.3262 - val_loss: 0.8883 - val_accuracy: 0.7525\n",
      "Epoch 3/10\n",
      "50/50 [==============================] - 2s 43ms/step - loss: 1.1225 - accuracy: 0.6156 - val_loss: 0.3838 - val_accuracy: 0.9125\n",
      "Epoch 4/10\n",
      "50/50 [==============================] - 2s 43ms/step - loss: 0.7107 - accuracy: 0.7431 - val_loss: 0.1579 - val_accuracy: 0.9450\n",
      "Epoch 5/10\n",
      "50/50 [==============================] - 2s 43ms/step - loss: 0.4112 - accuracy: 0.8669 - val_loss: 0.1964 - val_accuracy: 0.9425\n",
      "Epoch 6/10\n",
      "50/50 [==============================] - 2s 43ms/step - loss: 0.2762 - accuracy: 0.9087 - val_loss: 0.1790 - val_accuracy: 0.9275\n",
      "Epoch 7/10\n",
      "50/50 [==============================] - 2s 43ms/step - loss: 0.2560 - accuracy: 0.9206 - val_loss: 0.0296 - val_accuracy: 0.9950\n",
      "Epoch 8/10\n",
      "50/50 [==============================] - 2s 42ms/step - loss: 0.2351 - accuracy: 0.9269 - val_loss: 0.0567 - val_accuracy: 0.9800\n",
      "Epoch 9/10\n",
      "50/50 [==============================] - 2s 42ms/step - loss: 0.2029 - accuracy: 0.9375 - val_loss: 0.0243 - val_accuracy: 0.9950\n",
      "Epoch 10/10\n",
      "50/50 [==============================] - 2s 42ms/step - loss: 0.1282 - accuracy: 0.9600 - val_loss: 0.0544 - val_accuracy: 0.9950\n"
     ]
    }
   ],
   "source": [
    "# Train the model\n",
    "history = model.fit(datagen.flow(X_train.reshape(-1, 64, 64, 1), y_train, batch_size=32), epochs=10, validation_data=(X_test.reshape(-1, 64, 64, 1), y_test))"
   ]
  },
  {
   "cell_type": "code",
   "execution_count": 28,
   "id": "c529bfdf",
   "metadata": {},
   "outputs": [
    {
     "name": "stdout",
     "output_type": "stream",
     "text": [
      "13/13 [==============================] - 0s 16ms/step\n",
      "Accuracy: 0.995\n"
     ]
    }
   ],
   "source": [
    "# Evaluate the model\n",
    "y_pred = model.predict(X_test.reshape(-1, 64, 64, 1))\n",
    "y_pred_classes = np.argmax(y_pred, axis=1)\n",
    "y_true = np.argmax(y_test, axis=1)\n",
    "\n",
    "accuracy = accuracy_score(y_true, y_pred_classes)\n",
    "print(f\"Accuracy: {accuracy}\")"
   ]
  },
  {
   "cell_type": "code",
   "execution_count": 29,
   "id": "d6364c63",
   "metadata": {},
   "outputs": [
    {
     "name": "stdout",
     "output_type": "stream",
     "text": [
      "              precision    recall  f1-score   support\n",
      "\n",
      "           0       1.00      1.00      1.00        36\n",
      "           1       0.96      1.00      0.98        47\n",
      "           2       1.00      1.00      1.00        46\n",
      "           3       1.00      1.00      1.00        36\n",
      "           4       1.00      1.00      1.00        34\n",
      "           5       1.00      0.97      0.99        34\n",
      "           6       1.00      1.00      1.00        33\n",
      "           7       1.00      0.98      0.99        44\n",
      "           8       1.00      1.00      1.00        48\n",
      "           9       1.00      1.00      1.00        42\n",
      "\n",
      "    accuracy                           0.99       400\n",
      "   macro avg       1.00      0.99      1.00       400\n",
      "weighted avg       1.00      0.99      1.00       400\n",
      "\n"
     ]
    }
   ],
   "source": [
    "# Classification report\n",
    "print(classification_report(y_true, y_pred_classes))"
   ]
  },
  {
   "cell_type": "code",
   "execution_count": null,
   "id": "a3839e16",
   "metadata": {},
   "outputs": [],
   "source": []
  }
 ],
 "metadata": {
  "kernelspec": {
   "display_name": "Python 3 (ipykernel)",
   "language": "python",
   "name": "python3"
  },
  "language_info": {
   "codemirror_mode": {
    "name": "ipython",
    "version": 3
   },
   "file_extension": ".py",
   "mimetype": "text/x-python",
   "name": "python",
   "nbconvert_exporter": "python",
   "pygments_lexer": "ipython3",
   "version": "3.11.4"
  }
 },
 "nbformat": 4,
 "nbformat_minor": 5
}
